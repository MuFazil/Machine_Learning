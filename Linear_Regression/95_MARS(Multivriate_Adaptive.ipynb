{
 "cells": [
  {
   "cell_type": "markdown",
   "metadata": {},
   "source": [
    "### 1. Linear vs Non-linear Relationships:\n",
    "\n",
    "In simple linear regression, the relationship between predictors (X) and the response (Y) is assumed to be a straight line:\n",
    "𝑌=𝛽0 + 𝛽1𝑋 + 𝜖  \n",
    "In polynomial regression, a higher degree (e.g.,  𝑋2, 𝑋3) is used to model more complex curves: \n",
    "\n",
    "𝑌=𝛽0 + 𝛽1𝑋 + 𝛽2𝑋^2 + ⋯ + 𝛽ℎ𝑋^ℎ + 𝜖\n",
    "While this allows for more flexibility, polynomial regression can easily overfit the data or fail to generalize well to new data.\n",
    "\n",
    "### 2. MARS – Adapting to Non-linear Data:\n",
    "\n",
    "MARS overcomes some of the limitations of polynomial regression by splitting the data into k segments and fitting a regression model to each segment.\n",
    "These segments are formed based on knots (specific points in the data) where the relationship between X and Y changes. The goal is to minimize error by choosing the best split points (knots).\n",
    "After identifying these knots, MARS creates what’s called hinge functions to model each piece.\n",
    "\n",
    "### 3. Hinge Functions:\n",
    "\n",
    "The hinge function is a piecewise linear function that allows MARS to model different relationships on either side of a knot. For instance:\n",
    "If a knot is placed at 4.3, the model fits one regression equation for values of X < 4.3 and another for values of X > 4.3.\n",
    "For more complex data, multiple knots can be used to divide the dataset into smaller segments.\n",
    "Choosing the Number of Knots (k):\n",
    "\n",
    "### 4. k-fold cross-validation\n",
    " is used to evaluate different models with varying numbers of knots. The model that minimizes the Mean Squared Error (MSE) on test data is selected.\n",
    "\n",
    "\n",
    "## Pros:\n",
    " * Works well for regression and classification tasks.\n",
    "* Handles non-linear relationships efficiently.\n",
    "* It can be applied to large datasets and doesn’t require you to scale or standardize variables beforehand.\n",
    "\n",
    "## Cons:\n",
    "\n",
    "* It may not perform as well as more advanced non-linear methods like Random Forests or Gradient Boosting Machines.\n"
   ]
  },
  {
   "cell_type": "code",
   "execution_count": 1,
   "metadata": {},
   "outputs": [
    {
     "ename": "ModuleNotFoundError",
     "evalue": "No module named 'pyearth'",
     "output_type": "error",
     "traceback": [
      "\u001b[1;31m---------------------------------------------------------------------------\u001b[0m",
      "\u001b[1;31mModuleNotFoundError\u001b[0m                       Traceback (most recent call last)",
      "Cell \u001b[1;32mIn[1], line 6\u001b[0m\n\u001b[0;32m      4\u001b[0m \u001b[38;5;28;01mfrom\u001b[39;00m \u001b[38;5;21;01msklearn\u001b[39;00m\u001b[38;5;21;01m.\u001b[39;00m\u001b[38;5;21;01mmodel_selection\u001b[39;00m \u001b[38;5;28;01mimport\u001b[39;00m RepeatedKFold\n\u001b[0;32m      5\u001b[0m \u001b[38;5;28;01mfrom\u001b[39;00m \u001b[38;5;21;01msklearn\u001b[39;00m\u001b[38;5;21;01m.\u001b[39;00m\u001b[38;5;21;01mdatasets\u001b[39;00m \u001b[38;5;28;01mimport\u001b[39;00m make_regression\n\u001b[1;32m----> 6\u001b[0m \u001b[38;5;28;01mfrom\u001b[39;00m \u001b[38;5;21;01mpyearth\u001b[39;00m \u001b[38;5;28;01mimport\u001b[39;00m Earth\n",
      "\u001b[1;31mModuleNotFoundError\u001b[0m: No module named 'pyearth'"
     ]
    }
   ],
   "source": [
    "import pandas as pd\n",
    "from numpy import mean\n",
    "from sklearn.model_selection import cross_val_score\n",
    "from sklearn.model_selection import RepeatedKFold\n",
    "from sklearn.datasets import make_regression\n",
    "from pyearth import Earth"
   ]
  },
  {
   "cell_type": "code",
   "execution_count": null,
   "metadata": {},
   "outputs": [],
   "source": [
    "#create fake regression data\n",
    "X, y = make_regression(n_samples=5000, n_features=15, n_informative=10,\n",
    "                       noise=0.5, random_state=5)\n"
   ]
  },
  {
   "cell_type": "code",
   "execution_count": null,
   "metadata": {},
   "outputs": [],
   "source": [
    "#define the model\n",
    "model = Earth()\n",
    "\n",
    "#specify cross-validation method to use to evaluate model\n",
    "cv = RepeatedKFold(n_splits=10, n_repeats=3, random_state=1)\n",
    "\n",
    "#evaluate model performance\n",
    "scores = cross_val_score(model, X, y, scoring='neg_mean_absolute_error',\n",
    "                         cv=cv, n_jobs=-1)\n",
    "\n",
    "#print results\n",
    "mean(scores)\n",
    "\n",
    "-1.745345918289"
   ]
  }
 ],
 "metadata": {
  "kernelspec": {
   "display_name": "Python 3",
   "language": "python",
   "name": "python3"
  },
  "language_info": {
   "codemirror_mode": {
    "name": "ipython",
    "version": 3
   },
   "file_extension": ".py",
   "mimetype": "text/x-python",
   "name": "python",
   "nbconvert_exporter": "python",
   "pygments_lexer": "ipython3",
   "version": "3.10.11"
  }
 },
 "nbformat": 4,
 "nbformat_minor": 2
}
