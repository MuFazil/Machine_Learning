{
 "cells": [
  {
   "cell_type": "markdown",
   "metadata": {},
   "source": [
    "Learning rate is adaptively adjusted for each parameter based on the historical gradient information. This allows for larger updates for infrequent parameters and smaller updates for frequent parameters."
   ]
  },
  {
   "cell_type": "markdown",
   "metadata": {},
   "source": [
    "Here \n",
    "\n",
    "Wt = W(t-1) - nt' * grad\n",
    "\n",
    "nt' = nt / sqrt(alphat + e)\n",
    "e = epsilon, a small value to avoid 0 division\n",
    "\n",
    "\n",
    "alphat = ∑grad**2  \n",
    "\n",
    "\n",
    "As αt increases (due to the accumulation of squared gradients), the learning rate 𝜂𝑡′ decreases. This means that frequently updated parameters (those with high gradients) will have smaller steps (slower updates), while parameters with lower gradients will continue to update faster."
   ]
  },
  {
   "cell_type": "markdown",
   "metadata": {},
   "source": []
  }
 ],
 "metadata": {
  "language_info": {
   "name": "python"
  }
 },
 "nbformat": 4,
 "nbformat_minor": 2
}
