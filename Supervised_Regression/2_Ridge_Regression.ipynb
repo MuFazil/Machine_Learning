{
 "cells": [
  {
   "cell_type": "markdown",
   "metadata": {},
   "source": [
    "Ridge regression, also known as Tikhonov regularization, is a technique used in linear regression to address the problem of multicollinearity among predictor variables. Multicollinearity occurs when independent variables in a regression model are highly correlated, which can lead to unreliable and unstable estimates of regression coefficients."
   ]
  },
  {
   "cell_type": "markdown",
   "metadata": {},
   "source": [
    "Ridge regression mitigates this issue by adding a regularization term to the ordinary least squares (OLS) objective function, which penalizes large coefficients and thus reduces their variance."
   ]
  },
  {
   "cell_type": "markdown",
   "metadata": {},
   "source": [
    "### ISSUE"
   ]
  },
  {
   "cell_type": "markdown",
   "metadata": {},
   "source": [
    "For example, if two features are highly correlated, the model might give each one a very large positive and negative coefficient, though their effects cancel each other out in practice. This magnification of coefficients results in high variance in predictions, which performs poorly on unseen data."
   ]
  },
  {
   "cell_type": "markdown",
   "metadata": {},
   "source": [
    "In the test data, even slight differences in the correlation between features (due to noise or sampling variations) can lead to large swings in the predicted values. This is what we mean by the model having high variance."
   ]
  },
  {
   "cell_type": "markdown",
   "metadata": {},
   "source": [
    "#### SOLUTION"
   ]
  },
  {
   "cell_type": "markdown",
   "metadata": {},
   "source": [
    "Ridge regression introduces a regularization term to the objective function. Instead of just minimizing the sum of squared errors, we also minimize the sum of the squared coefficients (shrinkage). Mathematically, the cost function for ridge regression becomes:\n",
    "\n",
    "Cost function = Sum of squared errors + 𝜆∑𝛽𝑗**2\n",
    "\n",
    "​\n",
    "Where:  \n",
    "λ is the regularization parameter (also called the tuning parameter).  \n",
    "𝛽𝑗 are the coefficients of the model."
   ]
  },
  {
   "cell_type": "markdown",
   "metadata": {},
   "source": [
    "#### INTUITION BEHIND REG TERM\n"
   ]
  },
  {
   "cell_type": "markdown",
   "metadata": {},
   "source": [
    "The term 𝜆∑𝛽𝑗 penalizes large values of the coefficients.  \n",
    "The larger λ is, the more it shrinks the coefficients toward zero.  \n",
    "This discourages the model from assigning excessive weight to any individual feature, especially in cases where features are highly correlated.  \n",
    "The result is a model with smaller, more stable coefficients, which is less sensitive to small changes in the data, thus reducing overfitting."
   ]
  },
  {
   "cell_type": "markdown",
   "metadata": {},
   "source": [
    "* When 𝜆=0 0ridge regression is equivalent to ordinary least squares (OLS).\n",
    "\n",
    "* When \n",
    "λ is large, all coefficients shrink closer to zero, making the model simpler, but potentially underfitting the data.\n",
    " * The optimal value of \n",
    "𝜆\n",
    "λ is often chosen through cross-validation, as it balances the bias and variance trade-of"
   ]
  },
  {
   "cell_type": "markdown",
   "metadata": {},
   "source": [
    "Bias-Variance Trade-off: By shrinking the coefficients, ridge regression introduces some bias (the model is constrained to not perfectly fit the data), but it reduces variance (the model is more stable and generalizes better to new data). So, ridge regression is particularly useful when we want to trade off a little bias for a significant reduction in variance."
   ]
  },
  {
   "cell_type": "code",
   "execution_count": 1,
   "metadata": {},
   "outputs": [],
   "source": [
    "# Importing libraries \n",
    "  \n",
    "import numpy as np \n",
    "import pandas as pd \n",
    "from sklearn.model_selection import train_test_split \n",
    "import matplotlib.pyplot as plt \n",
    " "
   ]
  },
  {
   "cell_type": "code",
   "execution_count": 2,
   "metadata": {},
   "outputs": [],
   "source": [
    " \n",
    "# Ridge Regression \n",
    "  \n",
    "class RidgeRegression() : \n",
    "      \n",
    "    def __init__( self, learning_rate, iterations, l2_penality ) : \n",
    "          \n",
    "        self.learning_rate = learning_rate         \n",
    "        self.iterations = iterations         \n",
    "        self.l2_penality = l2_penality \n",
    "          \n",
    "    # Function for model training             \n",
    "    def fit( self, X, Y ) : \n",
    "          \n",
    "        # no_of_training_examples, no_of_features         \n",
    "        self.m, self.n = X.shape \n",
    "          \n",
    "        # weight initialization         \n",
    "        self.W = np.zeros( self.n ) \n",
    "          \n",
    "        self.b = 0        \n",
    "        self.X = X         \n",
    "        self.Y = Y \n",
    "          \n",
    "        # gradient descent learning \n",
    "                  \n",
    "        for i in range( self.iterations ) :             \n",
    "            self.update_weights()             \n",
    "        return self\n",
    "      \n",
    "    # Helper function to update weights in gradient descent \n",
    "      \n",
    "    def update_weights( self ) :            \n",
    "        Y_pred = self.predict( self.X ) \n",
    "          \n",
    "        # calculate gradients       \n",
    "        dW = ( - ( 2 * ( self.X.T ).dot( self.Y - Y_pred ) ) +               \n",
    "               ( 2 * self.l2_penality * self.W ) ) / self.m      \n",
    "        db = - 2 * np.sum( self.Y - Y_pred ) / self.m  \n",
    "          \n",
    "        # update weights     \n",
    "        self.W = self.W - self.learning_rate * dW     \n",
    "        self.b = self.b - self.learning_rate * db         \n",
    "        return self\n",
    "      \n",
    "    # Hypothetical function  h( x )  \n",
    "    def predict( self, X ) :     \n",
    "        return X.dot( self.W ) + self.b \n",
    " "
   ]
  },
  {
   "cell_type": "code",
   "execution_count": 5,
   "metadata": {},
   "outputs": [
    {
     "name": "stdout",
     "output_type": "stream",
     "text": [
      "Predicted values  [ 40831.44 122898.14  65078.42]\n",
      "Real values       [ 37731 122391  57081]\n",
      "Trained W         9325.76\n",
      "Trained b         26842.8\n"
     ]
    },
    {
     "data": {
      "image/png": "[encoded data removed]",
      "text/plain": [
       "<Figure size 640x480 with 1 Axes>"
      ]
     },
     "metadata": {},
     "output_type": "display_data"
    }
   ],
   "source": [
    "def main() : \n",
    "      \n",
    "    # Importing dataset     \n",
    "    df = pd.read_csv( \"salary_data.csv\" ) \n",
    "    X = df.iloc[:, :-1].values \n",
    "    Y = df.iloc[:, 1].values     \n",
    "  \n",
    "    # Splitting dataset into train and test set \n",
    "    X_train, X_test, Y_train, Y_test = train_test_split( X, Y,  \n",
    "                                            \n",
    "                                          test_size = 1 / 3, random_state = 0 ) \n",
    "      \n",
    "    # Model training     \n",
    "    model = RidgeRegression( iterations = 1000,                              \n",
    "                            learning_rate = 0.01, l2_penality = 1 ) \n",
    "    model.fit( X_train, Y_train ) \n",
    "      \n",
    "    # Prediction on test set \n",
    "    Y_pred = model.predict( X_test )     \n",
    "    print( \"Predicted values \", np.round( Y_pred[:3], 2 ) )      \n",
    "    print( \"Real values      \", Y_test[:3] )     \n",
    "    print( \"Trained W        \", round( model.W[0], 2 ) )     \n",
    "    print( \"Trained b        \", round( model.b, 2 ) ) \n",
    "      \n",
    "    # Visualization on test set      \n",
    "    plt.scatter( X_test, Y_test, color = 'blue' )     \n",
    "    plt.plot( X_test, Y_pred, color = 'orange' )     \n",
    "    plt.title( 'Salary vs Experience' )     \n",
    "    plt.xlabel( 'Years of Experience' )     \n",
    "    plt.ylabel( 'Salary' )     \n",
    "    plt.show() \n",
    "      \n",
    "if __name__ == \"__main__\" :  \n",
    "    main() "
   ]
  },
  {
   "cell_type": "code",
   "execution_count": null,
   "metadata": {},
   "outputs": [],
   "source": []
  }
 ],
 "metadata": {
  "kernelspec": {
   "display_name": "Python 3",
   "language": "python",
   "name": "python3"
  },
  "language_info": {
   "codemirror_mode": {
    "name": "ipython",
    "version": 3
   },
   "file_extension": ".py",
   "mimetype": "text/x-python",
   "name": "python",
   "nbconvert_exporter": "python",
   "pygments_lexer": "ipython3",
   "version": "3.10.11"
  }
 },
 "nbformat": 4,
 "nbformat_minor": 2
}
